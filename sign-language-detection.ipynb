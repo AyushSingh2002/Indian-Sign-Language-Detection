{
 "cells": [
  {
   "cell_type": "markdown",
   "metadata": {},
   "source": [
    "1. IMPORT AND INSTALL DEPENDENCIES"
   ]
  },
  {
   "cell_type": "code",
   "execution_count": null,
   "metadata": {},
   "outputs": [],
   "source": [
    "%pip install tensorflow==2.13.0 tensorflow-gpu opencv-python scikit-learn matplotlib mediapipe"
   ]
  },
  {
   "cell_type": "code",
   "execution_count": 1,
   "metadata": {},
   "outputs": [],
   "source": [
    "import cv2\n",
    "import numpy as np\n",
    "import mediapipe as mp\n",
    "import os\n",
    "import time\n",
    "from matplotlib import pyplot as plt"
   ]
  },
  {
   "cell_type": "markdown",
   "metadata": {},
   "source": [
    "2. MARKING KEYPOINTS USING MEDIAPIPE HOLISTIC"
   ]
  },
  {
   "cell_type": "code",
   "execution_count": 2,
   "metadata": {},
   "outputs": [],
   "source": [
    "mp_holistic = mp.solutions.holistic     #Mediapipe Holistic Model\n",
    "mp_drawing = mp.solutions.drawing_utils #Mediapipe Drawing Utilities"
   ]
  },
  {
   "cell_type": "code",
   "execution_count": 3,
   "metadata": {},
   "outputs": [],
   "source": [
    "def mediapipe_detection(image, model) :\n",
    "  image = cv2.cvtColor(image, cv2.COLOR_BGR2RGB)      #Convert Image from BGR(Blue-Green-Red) to RGB(Red-Green-Blue)\n",
    "  image.flags.writeable = False                       #Image is no longer writeable\n",
    "  result = model.process(image)                       #Deploying mediapipe model to process landmarks\n",
    "  image.flags.writeable = True                        #Changing image status to writeable\n",
    "  image = cv2.cvtColor(image, cv2.COLOR_RGB2BGR)      #Converting Image from RGB back to BGR\n",
    "  return image, result                                #Return result"
   ]
  },
  {
   "cell_type": "code",
   "execution_count": 4,
   "metadata": {},
   "outputs": [],
   "source": [
    "def draw_landmarks(image, result) :\n",
    "    mp_drawing.draw_landmarks(image, result.face_landmarks, mp_holistic.FACEMESH_TESSELATION, \n",
    "                              mp_drawing.DrawingSpec(color = (80, 110, 10), thickness = 1, circle_radius = 1), \n",
    "                              mp_drawing.DrawingSpec(color = (80, 256, 121), thickness = 1, circle_radius = 1))  #Drawing Face Connections on Window\n",
    "    mp_drawing.draw_landmarks(image, result.pose_landmarks, mp_holistic.POSE_CONNECTIONS)  #Drawing Pose Connections on Window\n",
    "    mp_drawing.draw_landmarks(image, result.left_hand_landmarks, mp_holistic.HAND_CONNECTIONS,\n",
    "                              mp_drawing.DrawingSpec(color = (121, 22, 76), thickness = 2, circle_radius = 4), \n",
    "                              mp_drawing.DrawingSpec(color = (121, 44, 250), thickness = 2, circle_radius = 2))  #Drawing Left Hand Connections on Window \n",
    "    mp_drawing.draw_landmarks(image, result.right_hand_landmarks, mp_holistic.HAND_CONNECTIONS,\n",
    "                              mp_drawing.DrawingSpec(color = (245, 117, 66), thickness = 2, circle_radius = 4), \n",
    "                              mp_drawing.DrawingSpec(color = (245, 66, 230), thickness = 2, circle_radius = 2))  #Drawing Right Hand Connections on Window"
   ]
  },
  {
   "cell_type": "code",
   "execution_count": null,
   "metadata": {},
   "outputs": [],
   "source": [
    "#Open Camera\n",
    "cap = cv2.VideoCapture(0)\n",
    "with mp_holistic.Holistic(min_detection_confidence=0.7, min_tracking_confidence=0.7) as holistic: #Instance of Mediapipe Holistic Model \n",
    "    while cap.isOpened():\n",
    "        #Read frame\n",
    "        ret, frame = cap.read()\n",
    "        frame = cv2.flip(frame, 1) #Optional for fixing camera issues\n",
    "        #Detecting Keypoints using Mediapipe detection function\n",
    "        image, results = mediapipe_detection(frame, holistic)\n",
    "        print(results)\n",
    "        #Rendering Detected Landmarks on Current Frame\n",
    "        draw_landmarks(image, results)\n",
    "        #Show on screen\n",
    "        cv2.imshow('OpenCV Window', image)\n",
    "        #Close Window\n",
    "        if cv2.waitKey(10) & 0xFF== ord('q'):\n",
    "            break\n",
    "    cap.release()\n",
    "    cv2.destroyAllWindows()"
   ]
  },
  {
   "cell_type": "markdown",
   "metadata": {},
   "source": [
    "3. EXTRACTING KEYPOINTS FROM LAST CAPTURED FRAME"
   ]
  },
  {
   "cell_type": "code",
   "execution_count": 6,
   "metadata": {},
   "outputs": [],
   "source": [
    "def extract_keypoints(results) :\n",
    "#Extracting Keypoints of Face Landmarks\n",
    "    if results.face_landmarks :\n",
    "        #face = np.array([[res.x, res.y, res.z] for res in results.face_landmarks.landmark]).flatten()\n",
    "        face = np.zeros(1404)\n",
    "    else :\n",
    "        face = np.zeros(1404)\n",
    "    #Extracting Keypoints of Pose Landmarks\n",
    "    if results.pose_landmarks :\n",
    "        #pose = np.array([[res.x, res.y, res.z, res.visibility] for res in results.pose_landmarks.landmark]).flatten()\n",
    "        pose = np.zeros(132)\n",
    "    else :\n",
    "        pose = np.zeros(132)\n",
    "    #Extracting Keypoints of Right Hand Landmarks\n",
    "    if results.right_hand_landmarks :\n",
    "        right_hand = np.array([[res.x, res.y, res.z] for res in results.right_hand_landmarks.landmark]).flatten()\n",
    "    else :\n",
    "        right_hand = np.zeros(63)\n",
    "    #Extracting Keypoints of Left Hand Landmarks\n",
    "    if results.left_hand_landmarks :\n",
    "        left_hand = np.array([[res.x, res.y, res.z] for res in results.left_hand_landmarks.landmark]).flatten()\n",
    "    else :\n",
    "        left_hand = np.zeros(63)\n",
    "    return np.concatenate([face, pose, right_hand, left_hand])"
   ]
  },
  {
   "cell_type": "code",
   "execution_count": 7,
   "metadata": {},
   "outputs": [
    {
     "name": "stdout",
     "output_type": "stream",
     "text": [
      "[ 0.          0.          0.         ...  0.83418965  0.40063888\n",
      " -0.0362075 ]\n",
      "(1662,)\n"
     ]
    }
   ],
   "source": [
    "final_array = extract_keypoints(results)\n",
    "print((final_array))\n",
    "print(final_array.shape)"
   ]
  },
  {
   "cell_type": "markdown",
   "metadata": {},
   "source": [
    "4. SETTING UP FOLDER FOR COLLECTING VIDEO DATA"
   ]
  },
  {
   "cell_type": "code",
   "execution_count": 8,
   "metadata": {},
   "outputs": [],
   "source": [
    "DATA_PATH = os.path.join('ISL_Data') #Creating Folder for storing data in form of numpy array\n",
    "actionset_1 = np.array(['0', '1', '2', '3', '4']) #List of action Part 1\n",
    "actionset_2 = np.array(['5', '6', '7', '8', '9']) #List of action Part 2\n",
    "actionset_3 = np.array(['A', 'B', 'C', 'D', 'E']) #List of action Part 3\n",
    "actionset_4 = np.array(['F', 'G', 'H', 'I', 'J']) #List of action Part 4\n",
    "actionset_5 = np.array(['K', 'L', 'M', 'N', 'O']) #List of action Part 5\n",
    "actionset_6 = np.array(['P', 'Q', 'R', 'S', 'T']) #List of action Part 6\n",
    "actionset_7 = np.array(['U', 'V', 'W']) #List of action Part 7\n",
    "actionset_8 = np.array(['X', 'Y', 'Z']) #List of action Part 8\n",
    "no_sequences = 30 #Number of Data item for each action \n",
    "sequence_length = 30 #Number of frames in each sequence\n",
    "for action in actionset_1 : #Looping through each action in set1 and creating folders for storing data\n",
    "    for sequence in range(no_sequences) :\n",
    "        try :\n",
    "            os.makedirs(os.path.join(DATA_PATH, action, str(sequence)))\n",
    "        except :\n",
    "            pass\n",
    "for action in actionset_2 : #Looping through each action in set2 and creating folders for storing data\n",
    "    for sequence in range(no_sequences) :\n",
    "        try :\n",
    "            os.makedirs(os.path.join(DATA_PATH, action, str(sequence)))\n",
    "        except :\n",
    "            pass\n",
    "for action in actionset_3 : #Looping through each action in set3 and creating folders for storing data\n",
    "    for sequence in range(no_sequences) :\n",
    "        try :\n",
    "            os.makedirs(os.path.join(DATA_PATH, action, str(sequence)))\n",
    "        except :\n",
    "            pass\n",
    "for action in actionset_4 : #Looping through each action in set4 and creating folders for storing data\n",
    "    for sequence in range(no_sequences) :\n",
    "        try :\n",
    "            os.makedirs(os.path.join(DATA_PATH, action, str(sequence)))\n",
    "        except :\n",
    "            pass\n",
    "for action in actionset_5 : #Looping through each action in set5 and creating folders for storing data\n",
    "    for sequence in range(no_sequences) :\n",
    "        try :\n",
    "            os.makedirs(os.path.join(DATA_PATH, action, str(sequence)))\n",
    "        except :\n",
    "            pass\n",
    "for action in actionset_6 : #Looping through each action in set6 and creating folders for storing data\n",
    "    for sequence in range(no_sequences) :\n",
    "        try :\n",
    "            os.makedirs(os.path.join(DATA_PATH, action, str(sequence)))\n",
    "        except :\n",
    "            pass\n",
    "for action in actionset_7 : #Looping through each action in set7 and creating folders for storing data\n",
    "    for sequence in range(no_sequences) :\n",
    "        try :\n",
    "            os.makedirs(os.path.join(DATA_PATH, action, str(sequence)))\n",
    "        except :\n",
    "            pass\n",
    "for action in actionset_8 : #Looping through each action in set8 and creating folders for storing data\n",
    "    for sequence in range(no_sequences) :\n",
    "        try :\n",
    "            os.makedirs(os.path.join(DATA_PATH, action, str(sequence)))\n",
    "        except :\n",
    "            pass"
   ]
  },
  {
   "cell_type": "code",
   "execution_count": 9,
   "metadata": {},
   "outputs": [],
   "source": [
    "#ADDING EXTRA DATA PATHS\n",
    "DATA_PATH = os.path.join('ISL_Data') #Creating Folder for storing data in form of numpy array\n",
    "actionset_1 = np.array(['0', '1', '2', '3', '4']) #List of action Part 1\n",
    "actionset_2 = np.array(['5', '6', '7', '8', '9']) #List of action Part 2\n",
    "actionset_3 = np.array(['A', 'B', 'C', 'D', 'E']) #List of action Part 3\n",
    "actionset_4 = np.array(['F', 'G', 'H', 'I', 'J']) #List of action Part 4\n",
    "actionset_5 = np.array(['K', 'L', 'M', 'N', 'O']) #List of action Part 5\n",
    "actionset_6 = np.array(['P', 'Q', 'R', 'S', 'T']) #List of action Part 6\n",
    "actionset_7 = np.array(['U', 'V', 'W']) #List of action Part 7\n",
    "actionset_8 = np.array(['X', 'Y', 'Z']) #List of action Part 8\n",
    "no_sequences = 30 #Number of Data item for each action \n",
    "sequence_length = 30 #Number of frames in each sequence\n",
    "for action in actionset_1 : #Looping through each action in set1 and creating folders for storing data\n",
    "    for sequence in range(no_sequences) :\n",
    "        try :\n",
    "            os.makedirs(os.path.join(DATA_PATH, action, str(sequence+30)))\n",
    "        except :\n",
    "            pass\n",
    "for action in actionset_2 : #Looping through each action in set2 and creating folders for storing data\n",
    "    for sequence in range(no_sequences) :\n",
    "        try :\n",
    "            os.makedirs(os.path.join(DATA_PATH, action, str(sequence+30)))\n",
    "        except :\n",
    "            pass\n",
    "for action in actionset_3 : #Looping through each action in set3 and creating folders for storing data\n",
    "    for sequence in range(no_sequences) :\n",
    "        try :\n",
    "            os.makedirs(os.path.join(DATA_PATH, action, str(sequence+30)))\n",
    "        except :\n",
    "            pass\n",
    "for action in actionset_4 : #Looping through each action in set4 and creating folders for storing data\n",
    "    for sequence in range(no_sequences) :\n",
    "        try :\n",
    "            os.makedirs(os.path.join(DATA_PATH, action, str(sequence+30)))\n",
    "        except :\n",
    "            pass\n",
    "for action in actionset_5 : #Looping through each action in set5 and creating folders for storing data\n",
    "    for sequence in range(no_sequences) :\n",
    "        try :\n",
    "            os.makedirs(os.path.join(DATA_PATH, action, str(sequence+30)))\n",
    "        except :\n",
    "            pass\n",
    "for action in actionset_6 : #Looping through each action in set6 and creating folders for storing data\n",
    "    for sequence in range(no_sequences) :\n",
    "        try :\n",
    "            os.makedirs(os.path.join(DATA_PATH, action, str(sequence+30)))\n",
    "        except :\n",
    "            pass\n",
    "for action in actionset_7 : #Looping through each action in set7 and creating folders for storing data\n",
    "    for sequence in range(no_sequences) :\n",
    "        try :\n",
    "            os.makedirs(os.path.join(DATA_PATH, action, str(sequence+30)))\n",
    "        except :\n",
    "            pass\n",
    "for action in actionset_8 : #Looping through each action in set8 and creating folders for storing data\n",
    "    for sequence in range(no_sequences) :\n",
    "        try :\n",
    "            os.makedirs(os.path.join(DATA_PATH, action, str(sequence+30)))\n",
    "        except :\n",
    "            pass"
   ]
  },
  {
   "cell_type": "markdown",
   "metadata": {},
   "source": [
    "5. COLLECTING KEYPOINT VALUES FOR TRAINING AND TESTING PART - 1"
   ]
  },
  {
   "cell_type": "code",
   "execution_count": null,
   "metadata": {},
   "outputs": [],
   "source": [
    "#Open Camera\n",
    "#Module for taking Input of Signs in Set 1 [0, 1, 2, 3, 4]\n",
    "cap = cv2.VideoCapture(0)\n",
    "with mp_holistic.Holistic(min_detection_confidence=0.5, min_tracking_confidence=0.5) as holistic: #Instance of Mediapipe Holistic Model \n",
    "    for action in actionset_1 : #Looping through each action\n",
    "        for sequence in range(no_sequences) : #Looping through each video/sequence\n",
    "            for frame_no in range(sequence_length) : #Looping through each frame\n",
    "              #Read frame\n",
    "              ret, frame = cap.read()\n",
    "              frame = cv2.flip(frame, 1) #Optional for fixing camera issues\n",
    "              #Detecting Keypoints using Mediapipe detection function\n",
    "              image, results = mediapipe_detection(frame, holistic)\n",
    "              print(results)\n",
    "              #Rendering Detected Landmarks on Current Frame\n",
    "              draw_landmarks(image, results)\n",
    "              #Logic for waiting between collection of frames\n",
    "              if frame_no==0 :\n",
    "                  cv2.putText(image, 'STARTING COLLECTION', (120, 200), cv2.FONT_HERSHEY_SIMPLEX, 1, (0, 255, 0), 4, cv2.LINE_AA)\n",
    "                  cv2.putText(image, 'Collecting Frames for {} Video Number {}'.format(action, sequence), (15, 12), \n",
    "                              cv2.FONT_HERSHEY_SCRIPT_SIMPLEX, 0.5, (0, 0, 255), 4, cv2.LINE_AA)\n",
    "                  cv2.waitKey(2000)\n",
    "              else :\n",
    "                  cv2.putText(image, 'Collecting Frames for {} Video Number {}'.format(action, sequence), (15, 12), \n",
    "                              cv2.FONT_HERSHEY_SCRIPT_SIMPLEX, 0.5, (0, 0, 255), 4, cv2.LINE_AA)\n",
    "              #Extracting and saving keypoints in Numpy Array\n",
    "              keypoints = extract_keypoints(results)\n",
    "              npy_path = os.path.join(DATA_PATH, action, str(sequence), str(frame_no))\n",
    "              np.save(npy_path, keypoints)\n",
    "              #Show on screen\n",
    "              cv2.imshow('OpenCV Window', image)\n",
    "              #Close Window\n",
    "              if cv2.waitKey(10) & 0xFF== ord('q') :\n",
    "                  break\n",
    "    cap.release()\n",
    "    cv2.destroyAllWindows()"
   ]
  },
  {
   "cell_type": "code",
   "execution_count": null,
   "metadata": {},
   "outputs": [],
   "source": [
    "#Open Camera\n",
    "#Module for taking Input of Signs in Set 2 [5, 6, 7, 8, 9]\n",
    "cap = cv2.VideoCapture(0)\n",
    "with mp_holistic.Holistic(min_detection_confidence=0.5, min_tracking_confidence=0.5) as holistic: #Instance of Mediapipe Holistic Model \n",
    "    for action in actionset_2 : #Looping through each action\n",
    "        for sequence in range(no_sequences) : #Looping through each video/sequence\n",
    "            for frame_no in range(sequence_length) : #Looping through each frame\n",
    "              #Read frame\n",
    "              ret, frame = cap.read()\n",
    "              frame = cv2.flip(frame, 1) #Optional for fixing camera issues\n",
    "              #Detecting Keypoints using Mediapipe detection function\n",
    "              image, results = mediapipe_detection(frame, holistic)\n",
    "              print(results)\n",
    "              #Rendering Detected Landmarks on Current Frame\n",
    "              draw_landmarks(image, results)\n",
    "              #Logic for waiting between collection of frames\n",
    "              if frame_no==0 :\n",
    "                  cv2.putText(image, 'STARTING COLLECTION', (120, 200), cv2.FONT_HERSHEY_SIMPLEX, 1, (0, 255, 0), 4, cv2.LINE_AA)\n",
    "                  cv2.putText(image, 'Collecting Frames for {} Video Number {}'.format(action, sequence), (15, 12), \n",
    "                              cv2.FONT_HERSHEY_SCRIPT_SIMPLEX, 0.5, (0, 0, 255), 4, cv2.LINE_AA)\n",
    "                  cv2.waitKey(2000)\n",
    "              else :\n",
    "                  cv2.putText(image, 'Collecting Frames for {} Video Number {}'.format(action, sequence), (15, 12), \n",
    "                              cv2.FONT_HERSHEY_SCRIPT_SIMPLEX, 0.5, (0, 0, 255), 4, cv2.LINE_AA)\n",
    "              #Extracting and saving keypoints in Numpy Array\n",
    "              keypoints = extract_keypoints(results)\n",
    "              npy_path = os.path.join(DATA_PATH, action, str(sequence), str(frame_no))\n",
    "              np.save(npy_path, keypoints)\n",
    "              #Show on screen\n",
    "              cv2.imshow('OpenCV Window', image)\n",
    "              #Close Window\n",
    "              if cv2.waitKey(10) & 0xFF== ord('q') :\n",
    "                  break\n",
    "    cap.release()\n",
    "    cv2.destroyAllWindows()"
   ]
  },
  {
   "cell_type": "code",
   "execution_count": null,
   "metadata": {},
   "outputs": [],
   "source": [
    "#Open Camera\n",
    "#Module for taking Input of Signs in Set 3 [A, B, C, D, E]\n",
    "cap = cv2.VideoCapture(0)\n",
    "with mp_holistic.Holistic(min_detection_confidence=0.5, min_tracking_confidence=0.5) as holistic: #Instance of Mediapipe Holistic Model \n",
    "    for action in actionset_3 : #Looping through each action\n",
    "        for sequence in range(no_sequences) : #Looping through each video/sequence\n",
    "            for frame_no in range(sequence_length) : #Looping through each frame\n",
    "              #Read frame\n",
    "              ret, frame = cap.read()\n",
    "              frame = cv2.flip(frame, 1) #Optional for fixing camera issues\n",
    "              #Detecting Keypoints using Mediapipe detection function\n",
    "              image, results = mediapipe_detection(frame, holistic)\n",
    "              print(results)\n",
    "              #Rendering Detected Landmarks on Current Frame\n",
    "              draw_landmarks(image, results)\n",
    "              #Logic for waiting between collection of frames\n",
    "              if frame_no==0 :\n",
    "                  cv2.putText(image, 'STARTING COLLECTION', (120, 200), cv2.FONT_HERSHEY_SIMPLEX, 1, (0, 255, 0), 4, cv2.LINE_AA)\n",
    "                  cv2.putText(image, 'Collecting Frames for {} Video Number {}'.format(action, sequence), (15, 12), \n",
    "                              cv2.FONT_HERSHEY_SCRIPT_SIMPLEX, 0.5, (0, 0, 255), 4, cv2.LINE_AA)\n",
    "                  cv2.waitKey(2000)\n",
    "              else :\n",
    "                  cv2.putText(image, 'Collecting Frames for {} Video Number {}'.format(action, sequence), (15, 12), \n",
    "                              cv2.FONT_HERSHEY_SCRIPT_SIMPLEX, 0.5, (0, 0, 255), 4, cv2.LINE_AA)\n",
    "              #Extracting and saving keypoints in Numpy Array\n",
    "              keypoints = extract_keypoints(results)\n",
    "              npy_path = os.path.join(DATA_PATH, action, str(sequence), str(frame_no))\n",
    "              np.save(npy_path, keypoints)\n",
    "              #Show on screen\n",
    "              cv2.imshow('OpenCV Window', image)\n",
    "              #Close Window\n",
    "              if cv2.waitKey(10) & 0xFF== ord('q') :\n",
    "                  break\n",
    "    cap.release()\n",
    "    cv2.destroyAllWindows()"
   ]
  },
  {
   "cell_type": "code",
   "execution_count": null,
   "metadata": {},
   "outputs": [],
   "source": [
    "#Open Camera\n",
    "#Module for taking Input of Signs in Set 4 [F, G, H, I, J]\n",
    "cap = cv2.VideoCapture(0)\n",
    "with mp_holistic.Holistic(min_detection_confidence=0.5, min_tracking_confidence=0.5) as holistic: #Instance of Mediapipe Holistic Model \n",
    "    for action in actionset_4 : #Looping through each action\n",
    "        for sequence in range(no_sequences) : #Looping through each video/sequence\n",
    "            for frame_no in range(sequence_length) : #Looping through each frame\n",
    "              #Read frame\n",
    "              ret, frame = cap.read()\n",
    "              frame = cv2.flip(frame, 1) #Optional for fixing camera issues\n",
    "              #Detecting Keypoints using Mediapipe detection function\n",
    "              image, results = mediapipe_detection(frame, holistic)\n",
    "              print(results)\n",
    "              #Rendering Detected Landmarks on Current Frame\n",
    "              draw_landmarks(image, results)\n",
    "              #Logic for waiting between collection of frames\n",
    "              if frame_no==0 :\n",
    "                  cv2.putText(image, 'STARTING COLLECTION', (120, 200), cv2.FONT_HERSHEY_SIMPLEX, 1, (0, 255, 0), 4, cv2.LINE_AA)\n",
    "                  cv2.putText(image, 'Collecting Frames for {} Video Number {}'.format(action, sequence), (15, 12), \n",
    "                              cv2.FONT_HERSHEY_SCRIPT_SIMPLEX, 0.5, (0, 0, 255), 4, cv2.LINE_AA)\n",
    "                  cv2.waitKey(2000)\n",
    "              else :\n",
    "                  cv2.putText(image, 'Collecting Frames for {} Video Number {}'.format(action, sequence), (15, 12), \n",
    "                              cv2.FONT_HERSHEY_SCRIPT_SIMPLEX, 0.5, (0, 0, 255), 4, cv2.LINE_AA)\n",
    "              #Extracting and saving keypoints in Numpy Array\n",
    "              keypoints = extract_keypoints(results)\n",
    "              npy_path = os.path.join(DATA_PATH, action, str(sequence), str(frame_no))\n",
    "              np.save(npy_path, keypoints)\n",
    "              #Show on screen\n",
    "              cv2.imshow('OpenCV Window', image)\n",
    "              #Close Window\n",
    "              if cv2.waitKey(10) & 0xFF== ord('q') :\n",
    "                  break\n",
    "    cap.release()\n",
    "    cv2.destroyAllWindows()"
   ]
  },
  {
   "cell_type": "code",
   "execution_count": null,
   "metadata": {},
   "outputs": [],
   "source": [
    "#Open Camera\n",
    "#Module for taking Input of Signs in Set 5 [K , L, M, N, O]\n",
    "cap = cv2.VideoCapture(0)\n",
    "with mp_holistic.Holistic(min_detection_confidence=0.5, min_tracking_confidence=0.5) as holistic: #Instance of Mediapipe Holistic Model \n",
    "    for action in actionset_5 : #Looping through each action\n",
    "        for sequence in range(no_sequences) : #Looping through each video/sequence\n",
    "            for frame_no in range(sequence_length) : #Looping through each frame\n",
    "              #Read frame\n",
    "              ret, frame = cap.read()\n",
    "              frame = cv2.flip(frame, 1) #Optional for fixing camera issues\n",
    "              #Detecting Keypoints using Mediapipe detection function\n",
    "              image, results = mediapipe_detection(frame, holistic)\n",
    "              print(results)\n",
    "              #Rendering Detected Landmarks on Current Frame\n",
    "              draw_landmarks(image, results)\n",
    "              #Logic for waiting between collection of frames\n",
    "              if frame_no==0 :\n",
    "                  cv2.putText(image, 'STARTING COLLECTION', (120, 200), cv2.FONT_HERSHEY_SIMPLEX, 1, (0, 255, 0), 4, cv2.LINE_AA)\n",
    "                  cv2.putText(image, 'Collecting Frames for {} Video Number {}'.format(action, sequence), (15, 12), \n",
    "                              cv2.FONT_HERSHEY_SCRIPT_SIMPLEX, 0.5, (0, 0, 255), 4, cv2.LINE_AA)\n",
    "                  cv2.waitKey(2000)\n",
    "              else :\n",
    "                  cv2.putText(image, 'Collecting Frames for {} Video Number {}'.format(action, sequence), (15, 12), \n",
    "                              cv2.FONT_HERSHEY_SCRIPT_SIMPLEX, 0.5, (0, 0, 255), 4, cv2.LINE_AA)\n",
    "              #Extracting and saving keypoints in Numpy Array\n",
    "              keypoints = extract_keypoints(results)\n",
    "              npy_path = os.path.join(DATA_PATH, action, str(sequence), str(frame_no))\n",
    "              np.save(npy_path, keypoints)\n",
    "              #Show on screen\n",
    "              cv2.imshow('OpenCV Window', image)\n",
    "              #Close Window\n",
    "              if cv2.waitKey(10) & 0xFF== ord('q') :\n",
    "                  break\n",
    "    cap.release()\n",
    "    cv2.destroyAllWindows()"
   ]
  },
  {
   "cell_type": "code",
   "execution_count": null,
   "metadata": {},
   "outputs": [],
   "source": [
    "#Open Camera\n",
    "#Module for taking Input of Signs in Set 6 [P, Q, R, S, T]\n",
    "cap = cv2.VideoCapture(0)\n",
    "with mp_holistic.Holistic(min_detection_confidence=0.5, min_tracking_confidence=0.5) as holistic: #Instance of Mediapipe Holistic Model \n",
    "    for action in actionset_6 : #Looping through each action\n",
    "        for sequence in range(no_sequences) : #Looping through each video/sequence\n",
    "            for frame_no in range(sequence_length) : #Looping through each frame\n",
    "              #Read frame\n",
    "              ret, frame = cap.read()\n",
    "              frame = cv2.flip(frame, 1) #Optional for fixing camera issues\n",
    "              #Detecting Keypoints using Mediapipe detection function\n",
    "              image, results = mediapipe_detection(frame, holistic)\n",
    "              print(results)\n",
    "              #Rendering Detected Landmarks on Current Frame\n",
    "              draw_landmarks(image, results)\n",
    "              #Logic for waiting between collection of frames\n",
    "              if frame_no==0 :\n",
    "                  cv2.putText(image, 'STARTING COLLECTION', (120, 200), cv2.FONT_HERSHEY_SIMPLEX, 1, (0, 255, 0), 4, cv2.LINE_AA)\n",
    "                  cv2.putText(image, 'Collecting Frames for {} Video Number {}'.format(action, sequence), (15, 12), \n",
    "                              cv2.FONT_HERSHEY_SCRIPT_SIMPLEX, 0.5, (0, 0, 255), 4, cv2.LINE_AA)\n",
    "                  cv2.waitKey(2000)\n",
    "              else :\n",
    "                  cv2.putText(image, 'Collecting Frames for {} Video Number {}'.format(action, sequence), (15, 12), \n",
    "                              cv2.FONT_HERSHEY_SCRIPT_SIMPLEX, 0.5, (0, 0, 255), 4, cv2.LINE_AA)\n",
    "              #Extracting and saving keypoints in Numpy Array\n",
    "              keypoints = extract_keypoints(results)\n",
    "              npy_path = os.path.join(DATA_PATH, action, str(sequence), str(frame_no))\n",
    "              np.save(npy_path, keypoints)\n",
    "              #Show on screen\n",
    "              cv2.imshow('OpenCV Window', image)\n",
    "              #Close Window\n",
    "              if cv2.waitKey(10) & 0xFF== ord('q') :\n",
    "                  break\n",
    "    cap.release()\n",
    "    cv2.destroyAllWindows()"
   ]
  },
  {
   "cell_type": "code",
   "execution_count": null,
   "metadata": {},
   "outputs": [],
   "source": [
    "#Open Camera\n",
    "#Module for taking Input of Signs in Set 7\n",
    "cap = cv2.VideoCapture(0)\n",
    "with mp_holistic.Holistic(min_detection_confidence=0.5, min_tracking_confidence=0.5) as holistic: #Instance of Mediapipe Holistic Model \n",
    "    for action in actionset_7 : #Looping through each action\n",
    "        for sequence in range(no_sequences) : #Looping through each video/sequence\n",
    "            for frame_no in range(sequence_length) : #Looping through each frame\n",
    "              #Read frame\n",
    "              ret, frame = cap.read()\n",
    "              frame = cv2.flip(frame, 1) #Optional for fixing camera issues\n",
    "              #Detecting Keypoints using Mediapipe detection function\n",
    "              image, results = mediapipe_detection(frame, holistic)\n",
    "              print(results)\n",
    "              #Rendering Detected Landmarks on Current Frame\n",
    "              draw_landmarks(image, results)\n",
    "              #Logic for waiting between collection of frames\n",
    "              if frame_no==0 :\n",
    "                  cv2.putText(image, 'STARTING COLLECTION', (120, 200), cv2.FONT_HERSHEY_SIMPLEX, 1, (0, 255, 0), 4, cv2.LINE_AA)\n",
    "                  cv2.putText(image, 'Collecting Frames for {} Video Number {}'.format(action, sequence), (15, 12), \n",
    "                              cv2.FONT_HERSHEY_SCRIPT_SIMPLEX, 0.5, (0, 0, 255), 4, cv2.LINE_AA)\n",
    "                  cv2.waitKey(2000)\n",
    "              else :\n",
    "                  cv2.putText(image, 'Collecting Frames for {} Video Number {}'.format(action, sequence), (15, 12), \n",
    "                              cv2.FONT_HERSHEY_SCRIPT_SIMPLEX, 0.5, (0, 0, 255), 4, cv2.LINE_AA)\n",
    "              #Extracting and saving keypoints in Numpy Array\n",
    "              keypoints = extract_keypoints(results)\n",
    "              npy_path = os.path.join(DATA_PATH, action, str(sequence), str(frame_no))\n",
    "              np.save(npy_path, keypoints)\n",
    "              #Show on screen\n",
    "              cv2.imshow('OpenCV Window', image)\n",
    "              #Close Window\n",
    "              if cv2.waitKey(10) & 0xFF== ord('q') :\n",
    "                  break\n",
    "    cap.release()\n",
    "    cv2.destroyAllWindows()"
   ]
  },
  {
   "cell_type": "code",
   "execution_count": null,
   "metadata": {},
   "outputs": [],
   "source": [
    "#Open Camera\n",
    "#Module for taking Input of Signs in Set 8\n",
    "cap = cv2.VideoCapture(0)\n",
    "with mp_holistic.Holistic(min_detection_confidence=0.5, min_tracking_confidence=0.5) as holistic: #Instance of Mediapipe Holistic Model \n",
    "    for action in actionset_8 : #Looping through each action\n",
    "        for sequence in range(no_sequences) : #Looping through each video/sequence\n",
    "            for frame_no in range(sequence_length) : #Looping through each frame\n",
    "              #Read frame\n",
    "              ret, frame = cap.read()\n",
    "              frame = cv2.flip(frame, 1) #Optional for fixing camera issues\n",
    "              #Detecting Keypoints using Mediapipe detection function\n",
    "              image, results = mediapipe_detection(frame, holistic)\n",
    "              print(results)\n",
    "              #Rendering Detected Landmarks on Current Frame\n",
    "              draw_landmarks(image, results)\n",
    "              #Logic for waiting between collection of frames\n",
    "              if frame_no==0 :\n",
    "                  cv2.putText(image, 'STARTING COLLECTION', (120, 200), cv2.FONT_HERSHEY_SIMPLEX, 1, (0, 255, 0), 4, cv2.LINE_AA)\n",
    "                  cv2.putText(image, 'Collecting Frames for {} Video Number {}'.format(action, sequence), (15, 12), \n",
    "                              cv2.FONT_HERSHEY_SCRIPT_SIMPLEX, 0.5, (0, 0, 255), 4, cv2.LINE_AA)\n",
    "                  cv2.waitKey(2000)\n",
    "              else :\n",
    "                  cv2.putText(image, 'Collecting Frames for {} Video Number {}'.format(action, sequence), (15, 12), \n",
    "                              cv2.FONT_HERSHEY_SCRIPT_SIMPLEX, 0.5, (0, 0, 255), 4, cv2.LINE_AA)\n",
    "              #Extracting and saving keypoints in Numpy Array\n",
    "              keypoints = extract_keypoints(results)\n",
    "              npy_path = os.path.join(DATA_PATH, action, str(sequence), str(frame_no))\n",
    "              np.save(npy_path, keypoints)\n",
    "              #Show on screen\n",
    "              cv2.imshow('OpenCV Window', image)\n",
    "              #Close Window\n",
    "              if cv2.waitKey(10) & 0xFF== ord('q') :\n",
    "                  break\n",
    "    cap.release()\n",
    "    cv2.destroyAllWindows()"
   ]
  },
  {
   "cell_type": "markdown",
   "metadata": {},
   "source": [
    "6. COLLECTING KEYPOINT VALUES FOR TRAINING AND TESTING PART - 2"
   ]
  },
  {
   "cell_type": "code",
   "execution_count": null,
   "metadata": {},
   "outputs": [],
   "source": [
    "#Open Camera\n",
    "#Module for taking Input of Signs in Set 1 [0, 1, 2, 3, 4]\n",
    "cap = cv2.VideoCapture(0)\n",
    "with mp_holistic.Holistic(min_detection_confidence=0.5, min_tracking_confidence=0.5) as holistic: #Instance of Mediapipe Holistic Model \n",
    "    for action in actionset_1 : #Looping through each action\n",
    "        for sequence in range(no_sequences) : #Looping through each video/sequence\n",
    "            for frame_no in range(sequence_length) : #Looping through each frame\n",
    "              #Read frame\n",
    "              ret, frame = cap.read()\n",
    "              frame = cv2.flip(frame, 1) #Optional for fixing camera issues\n",
    "              #Detecting Keypoints using Mediapipe detection function\n",
    "              image, results = mediapipe_detection(frame, holistic)\n",
    "              print(results)\n",
    "              #Rendering Detected Landmarks on Current Frame\n",
    "              draw_landmarks(image, results)\n",
    "              #Logic for waiting between collection of frames\n",
    "              if frame_no==0 :\n",
    "                  cv2.putText(image, 'STARTING COLLECTION', (120, 200), cv2.FONT_HERSHEY_SIMPLEX, 1, (0, 255, 0), 4, cv2.LINE_AA)\n",
    "                  cv2.putText(image, 'Collecting Frames for {} Video Number {}'.format(action, sequence), (15, 12), \n",
    "                              cv2.FONT_HERSHEY_SCRIPT_SIMPLEX, 0.5, (0, 0, 255), 4, cv2.LINE_AA)\n",
    "                  cv2.waitKey(2000)\n",
    "              else :\n",
    "                  cv2.putText(image, 'Collecting Frames for {} Video Number {}'.format(action, sequence), (15, 12), \n",
    "                              cv2.FONT_HERSHEY_SCRIPT_SIMPLEX, 0.5, (0, 0, 255), 4, cv2.LINE_AA)\n",
    "              #Extracting and saving keypoints in Numpy Array\n",
    "              keypoints = extract_keypoints(results)\n",
    "              npy_path = os.path.join(DATA_PATH, action, str(sequence+30), str(frame_no))\n",
    "              np.save(npy_path, keypoints)\n",
    "              #Show on screen\n",
    "              cv2.imshow('OpenCV Window', image)\n",
    "              #Close Window\n",
    "              if cv2.waitKey(10) & 0xFF== ord('q') :\n",
    "                  break\n",
    "    cap.release()\n",
    "    cv2.destroyAllWindows()"
   ]
  },
  {
   "cell_type": "code",
   "execution_count": null,
   "metadata": {},
   "outputs": [],
   "source": [
    "#Open Camera\n",
    "#Module for taking Input of Signs in Set 2 [5, 6, 7, 8, 9]\n",
    "cap = cv2.VideoCapture(0)\n",
    "with mp_holistic.Holistic(min_detection_confidence=0.5, min_tracking_confidence=0.5) as holistic: #Instance of Mediapipe Holistic Model \n",
    "    for action in actionset_2 : #Looping through each action\n",
    "        for sequence in range(no_sequences) : #Looping through each video/sequence\n",
    "            for frame_no in range(sequence_length) : #Looping through each frame\n",
    "              #Read frame\n",
    "              ret, frame = cap.read()\n",
    "              frame = cv2.flip(frame, 1) #Optional for fixing camera issues\n",
    "              #Detecting Keypoints using Mediapipe detection function\n",
    "              image, results = mediapipe_detection(frame, holistic)\n",
    "              print(results)\n",
    "              #Rendering Detected Landmarks on Current Frame\n",
    "              draw_landmarks(image, results)\n",
    "              #Logic for waiting between collection of frames\n",
    "              if frame_no==0 :\n",
    "                  cv2.putText(image, 'STARTING COLLECTION', (120, 200), cv2.FONT_HERSHEY_SIMPLEX, 1, (0, 255, 0), 4, cv2.LINE_AA)\n",
    "                  cv2.putText(image, 'Collecting Frames for {} Video Number {}'.format(action, sequence), (15, 12), \n",
    "                              cv2.FONT_HERSHEY_SCRIPT_SIMPLEX, 0.5, (0, 0, 255), 4, cv2.LINE_AA)\n",
    "                  cv2.waitKey(2000)\n",
    "              else :\n",
    "                  cv2.putText(image, 'Collecting Frames for {} Video Number {}'.format(action, sequence), (15, 12), \n",
    "                              cv2.FONT_HERSHEY_SCRIPT_SIMPLEX, 0.5, (0, 0, 255), 4, cv2.LINE_AA)\n",
    "              #Extracting and saving keypoints in Numpy Array\n",
    "              keypoints = extract_keypoints(results)\n",
    "              npy_path = os.path.join(DATA_PATH, action, str(sequence+30), str(frame_no))\n",
    "              np.save(npy_path, keypoints)\n",
    "              #Show on screen\n",
    "              cv2.imshow('OpenCV Window', image)\n",
    "              #Close Window\n",
    "              if cv2.waitKey(10) & 0xFF== ord('q') :\n",
    "                  break\n",
    "    cap.release()\n",
    "    cv2.destroyAllWindows()"
   ]
  },
  {
   "cell_type": "markdown",
   "metadata": {},
   "source": [
    "7. PREPROCESSING AND CREATING LABELS FOR COLLECTED DATA"
   ]
  },
  {
   "cell_type": "code",
   "execution_count": 10,
   "metadata": {},
   "outputs": [],
   "source": [
    "from sklearn.model_selection import train_test_split\n",
    "from tensorflow.keras.utils import to_categorical"
   ]
  },
  {
   "cell_type": "code",
   "execution_count": 11,
   "metadata": {},
   "outputs": [
    {
     "name": "stdout",
     "output_type": "stream",
     "text": [
      "['0' '1' '2' '3' '4' '5' '6' '7' '8' '9']\n"
     ]
    }
   ],
   "source": [
    "actions = np.concatenate((actionset_1, actionset_2))\n",
    "#actions = (actionset_1)\n",
    "print(actions)"
   ]
  },
  {
   "cell_type": "code",
   "execution_count": 12,
   "metadata": {},
   "outputs": [
    {
     "data": {
      "text/plain": [
       "{'0': 0,\n",
       " '1': 1,\n",
       " '2': 2,\n",
       " '3': 3,\n",
       " '4': 4,\n",
       " '5': 5,\n",
       " '6': 6,\n",
       " '7': 7,\n",
       " '8': 8,\n",
       " '9': 9}"
      ]
     },
     "execution_count": 12,
     "metadata": {},
     "output_type": "execute_result"
    }
   ],
   "source": [
    "label_map = {label:num for num, label in enumerate(actions)}\n",
    "label_map"
   ]
  },
  {
   "cell_type": "code",
   "execution_count": 44,
   "metadata": {},
   "outputs": [],
   "source": [
    "sequences, labels = [], []\n",
    "for action in actions :\n",
    "    for sequence in range(no_sequences+30) :\n",
    "        window = []\n",
    "        for frame in range(sequence_length) :\n",
    "            res = np.load(os.path.join(DATA_PATH, action, str(sequence), \"{}.npy\".format(frame)))\n",
    "            window.append(res)\n",
    "        sequences.append(window)\n",
    "        labels.append(label_map[action])"
   ]
  },
  {
   "cell_type": "code",
   "execution_count": 45,
   "metadata": {},
   "outputs": [],
   "source": [
    "X = np.array(sequences)\n",
    "Y = to_categorical(labels).astype(int)"
   ]
  },
  {
   "cell_type": "code",
   "execution_count": 46,
   "metadata": {},
   "outputs": [
    {
     "name": "stdout",
     "output_type": "stream",
     "text": [
      "(570, 30, 1662)\n",
      "(30, 30, 1662)\n",
      "(570, 10)\n",
      "(30, 10)\n"
     ]
    }
   ],
   "source": [
    "x_train, x_test, y_train, y_test = train_test_split(X, Y, test_size=0.05)\n",
    "print(x_train.shape)\n",
    "print(x_test.shape)\n",
    "print(y_train.shape)\n",
    "print(y_test.shape)"
   ]
  },
  {
   "cell_type": "markdown",
   "metadata": {},
   "source": [
    "8. BUILDING AND TRAINING NEURAL NETWORK USING LSTM TECHNIQUE"
   ]
  },
  {
   "cell_type": "code",
   "execution_count": 13,
   "metadata": {},
   "outputs": [],
   "source": [
    "from tensorflow.keras.models import Sequential\n",
    "from tensorflow.keras.layers import LSTM, Dense\n",
    "from tensorflow.keras.callbacks import TensorBoard"
   ]
  },
  {
   "cell_type": "code",
   "execution_count": 14,
   "metadata": {},
   "outputs": [],
   "source": [
    "log_dir = os.path.join(\"Logs\")\n",
    "tb_callbacks = TensorBoard(log_dir=log_dir)"
   ]
  },
  {
   "cell_type": "code",
   "execution_count": 15,
   "metadata": {},
   "outputs": [],
   "source": [
    "model = Sequential()\n",
    "model.add(LSTM(64, return_sequences=True, activation='relu', input_shape=(30,1662)))\n",
    "model.add(LSTM(128, return_sequences=True, activation='relu'))\n",
    "model.add(LSTM(256, return_sequences=True, activation='relu'))\n",
    "model.add(LSTM(128, return_sequences=True, activation='relu'))\n",
    "model.add(LSTM(64, return_sequences=False, activation='relu'))\n",
    "model.add(Dense(64, activation='relu'))\n",
    "model.add(Dense(32, activation='relu'))\n",
    "model.add(Dense(actions.shape[0], activation='softmax'))"
   ]
  },
  {
   "cell_type": "code",
   "execution_count": 16,
   "metadata": {},
   "outputs": [],
   "source": [
    "model.compile(optimizer='Adam', loss='categorical_crossentropy', metrics=['categorical_accuracy'])"
   ]
  },
  {
   "cell_type": "code",
   "execution_count": null,
   "metadata": {},
   "outputs": [],
   "source": [
    "model.fit(x_train, y_train, epochs=300, callbacks=[tb_callbacks])"
   ]
  },
  {
   "cell_type": "code",
   "execution_count": null,
   "metadata": {},
   "outputs": [],
   "source": [
    "model.save(\"0TOE91.33.keras\")"
   ]
  },
  {
   "cell_type": "code",
   "execution_count": 37,
   "metadata": {},
   "outputs": [],
   "source": [
    "model.save(\"0TO4.keras\")"
   ]
  },
  {
   "cell_type": "code",
   "execution_count": 52,
   "metadata": {},
   "outputs": [],
   "source": [
    "model.save(\"0TO9.keras\")"
   ]
  },
  {
   "cell_type": "code",
   "execution_count": 17,
   "metadata": {},
   "outputs": [
    {
     "name": "stderr",
     "output_type": "stream",
     "text": [
      "WARNING:absl:Skipping variable loading for optimizer 'Adam', because it has 1 variables whereas the saved optimizer has 43 variables. \n"
     ]
    }
   ],
   "source": [
    "model.load_weights(\"0TO9.keras\")"
   ]
  },
  {
   "cell_type": "markdown",
   "metadata": {},
   "source": [
    "9. PREDICTION USING CURRENT MODEL"
   ]
  },
  {
   "cell_type": "code",
   "execution_count": null,
   "metadata": {},
   "outputs": [],
   "source": [
    "sequence = []\n",
    "sentence = []\n",
    "threshold = 0.4\n",
    "#Open Camera\n",
    "cap = cv2.VideoCapture(0)\n",
    "with mp_holistic.Holistic(min_detection_confidence=0.5, min_tracking_confidence=0.5) as holistic: #Instance of Mediapipe Holistic Model \n",
    "    while cap.isOpened():\n",
    "        #Read frame\n",
    "        ret, frame = cap.read()\n",
    "        frame = cv2.flip(frame, 1) #Optional for fixing camera issues\n",
    "        #Detecting Keypoints using Mediapipe detection function\n",
    "        image, results = mediapipe_detection(frame, holistic)\n",
    "        print(results)\n",
    "        #Rendering Detected Landmarks on Current Frame\n",
    "        draw_landmarks(image, results)\n",
    "        #Prediction Logic\n",
    "        keypoints = extract_keypoints(results)\n",
    "        sequence.insert(0, keypoints)\n",
    "        sequence = sequence[:30]\n",
    "        if len(sequence) == 30 :\n",
    "            res = model.predict(np.expand_dims(sequence, axis=0))[0]\n",
    "            print(actions[np.argmax(res)])\n",
    "        #Visualization Logic\n",
    "        if res[np.argmax(res)] > threshold :\n",
    "            if len(sentence) > 0 :\n",
    "                if actions[np.argmax(res)] != sentence[-1] :\n",
    "                    sentence.append(actions[np.argmax(res)])\n",
    "            else :\n",
    "                sentence.append(actions[np.argmax(res)])\n",
    "        if len(sentence) > 5 :\n",
    "            sentence = sentence[-5:]\n",
    "        cv2.rectangle(image, (0, 0), (640, 40), (245, 117, 16), -1)\n",
    "        cv2.putText(image, ' '.join(sentence), (3, 30), cv2.FONT_HERSHEY_COMPLEX, 1, (255, 255, 255), 2, cv2.LINE_AA)\n",
    "        #Show on screen\n",
    "        cv2.imshow('OpenCV Window', image)\n",
    "        #Close Window\n",
    "        if cv2.waitKey(10) & 0xFF== ord('q'):\n",
    "            break\n",
    "    cap.release()\n",
    "    cv2.destroyAllWindows()"
   ]
  }
 ],
 "metadata": {
  "kernelspec": {
   "display_name": "Python 3",
   "language": "python",
   "name": "python3"
  },
  "language_info": {
   "codemirror_mode": {
    "name": "ipython",
    "version": 3
   },
   "file_extension": ".py",
   "mimetype": "text/x-python",
   "name": "python",
   "nbconvert_exporter": "python",
   "pygments_lexer": "ipython3",
   "version": "3.10.5"
  },
  "orig_nbformat": 4
 },
 "nbformat": 4,
 "nbformat_minor": 2
}
