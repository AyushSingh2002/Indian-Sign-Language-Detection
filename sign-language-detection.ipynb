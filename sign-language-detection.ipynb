{
 "cells": [
  {
   "cell_type": "markdown",
   "metadata": {},
   "source": [
    "1. IMPORT AND INSTALL DEPENDENCIES"
   ]
  },
  {
   "cell_type": "code",
   "execution_count": null,
   "metadata": {},
   "outputs": [],
   "source": [
    "%pip install tensorflow==2.13.0 tensorflow-gpu opencv-python sklearn matplotlib mediapipe"
   ]
  },
  {
   "cell_type": "code",
   "execution_count": 2,
   "metadata": {},
   "outputs": [],
   "source": [
    "import cv2\n",
    "import numpy as np\n",
    "import mediapipe as mp\n",
    "import os\n",
    "import time\n",
    "from matplotlib import pyplot as plt"
   ]
  },
  {
   "cell_type": "markdown",
   "metadata": {},
   "source": [
    "2. MARKING KEYPOINTS USING MEDIAPIPE HOLISTIC"
   ]
  },
  {
   "cell_type": "code",
   "execution_count": 3,
   "metadata": {},
   "outputs": [],
   "source": [
    "mp_holistic = mp.solutions.holistic     #Mediapipe Holistic Model\n",
    "mp_drawing = mp.solutions.drawing_utils #Mediapipe Drawing Utilities"
   ]
  },
  {
   "cell_type": "code",
   "execution_count": 88,
   "metadata": {},
   "outputs": [],
   "source": [
    "def mediapipe_detection(image, model) :\n",
    "  image = cv2.cvtColor(image, cv2.COLOR_BGR2RGB)      #Convert Image from BGR(Blue-Green-Red) to RGB(Red-Green-Blue)\n",
    "  image.flags.writeable = False                       #Image is no longer writeable\n",
    "  result = model.process(image)                       #Deploying mediapipe model to process landmarks\n",
    "  image.flags.writeable = True                        #Changing image status to writeable\n",
    "  image = cv2.cvtColor(image, cv2.COLOR_RGB2BGR)      #Converting Image from RGB back to BGR\n",
    "  return image, result                                #Return result"
   ]
  },
  {
   "cell_type": "code",
   "execution_count": 64,
   "metadata": {},
   "outputs": [],
   "source": [
    "def draw_landmarks(image, result) :\n",
    "    mp_drawing.draw_landmarks(image, result.face_landmarks, mp_holistic.FACEMESH_TESSELATION, \n",
    "                              mp_drawing.DrawingSpec(color = (80, 110, 10), thickness = 1, circle_radius = 1), \n",
    "                              mp_drawing.DrawingSpec(color = (80, 256, 121), thickness = 1, circle_radius = 1))  #Drawing Face Connections on Window\n",
    "    mp_drawing.draw_landmarks(image, result.pose_landmarks, mp_holistic.POSE_CONNECTIONS)  #Drawing Pose Connections on Window\n",
    "    mp_drawing.draw_landmarks(image, result.left_hand_landmarks, mp_holistic.HAND_CONNECTIONS,\n",
    "                              mp_drawing.DrawingSpec(color = (121, 22, 76), thickness = 2, circle_radius = 4), \n",
    "                              mp_drawing.DrawingSpec(color = (121, 44, 250), thickness = 2, circle_radius = 2))  #Drawing Left Hand Connections on Window \n",
    "    mp_drawing.draw_landmarks(image, result.right_hand_landmarks, mp_holistic.HAND_CONNECTIONS,\n",
    "                              mp_drawing.DrawingSpec(color = (245, 117, 66), thickness = 2, circle_radius = 4), \n",
    "                              mp_drawing.DrawingSpec(color = (245, 66, 230), thickness = 2, circle_radius = 2))  #Drawing Right Hand Connections on Window"
   ]
  },
  {
   "cell_type": "code",
   "execution_count": null,
   "metadata": {},
   "outputs": [],
   "source": [
    "#Open Camera\n",
    "cap = cv2.VideoCapture(0)\n",
    "with mp_holistic.Holistic(min_detection_confidence=0.5, min_tracking_confidence=0.5) as holistic: #Instance of Mediapipe Holistic Model \n",
    "    while cap.isOpened():\n",
    "        #Read frame\n",
    "        ret, frame = cap.read()\n",
    "        frame = cv2.flip(frame, 1) #Optional for fixing camera issues\n",
    "        #Detecting Keypoints using Mediapipe detection function\n",
    "        image, results = mediapipe_detection(frame, holistic)\n",
    "        print(results)\n",
    "        #Rendering Detected Landmarks on Current Frame\n",
    "        draw_landmarks(image, results)\n",
    "        #Show on screen\n",
    "        cv2.imshow('OpenCV Window', image)\n",
    "        #Close Window\n",
    "        if cv2.waitKey(10) & 0xFF== ord('q'):\n",
    "            break\n",
    "    cap.release()\n",
    "    cv2.destroyAllWindows()"
   ]
  },
  {
   "cell_type": "markdown",
   "metadata": {},
   "source": [
    "3. EXTRACTING KEYPOINTS FROM LAST CAPTURED FRAME"
   ]
  },
  {
   "cell_type": "code",
   "execution_count": 90,
   "metadata": {},
   "outputs": [],
   "source": [
    "def extract_keypoints(results) :\n",
    "#Extracting Keypoints of Face Landmarks\n",
    "    if results.face_landmarks :\n",
    "        face = np.array([[res.x, res.y, res.z] for res in results.face_landmarks.landmark]).flatten()\n",
    "    else :\n",
    "        face = np.zeros(1404)\n",
    "    #Extracting Keypoints of Pose Landmarks\n",
    "    if results.pose_landmarks :\n",
    "        pose = np.array([[res.x, res.y, res.z, res.visibility] for res in results.pose_landmarks.landmark]).flatten()\n",
    "    else :\n",
    "        pose = np.zeros(132)\n",
    "    #Extracting Keypoints of Right Hand Landmarks\n",
    "    if results.right_hand_landmarks :\n",
    "        right_hand = np.array([[res.x, res.y, res.z] for res in results.right_hand_landmarks.landmark]).flatten()\n",
    "    else :\n",
    "        right_hand = np.zeros(63)\n",
    "    #Extracting Keypoints of Left Hand Landmarks\n",
    "    if results.left_hand_landmarks :\n",
    "        left_hand = np.array([[res.x, res.y, res.z] for res in results.left_hand_landmarks.landmark]).flatten()\n",
    "    else :\n",
    "        left_hand = np.zeros(63)\n",
    "    return np.concatenate([face, pose, right_hand, left_hand])"
   ]
  }
 ],
 "metadata": {
  "kernelspec": {
   "display_name": "Python 3",
   "language": "python",
   "name": "python3"
  },
  "language_info": {
   "codemirror_mode": {
    "name": "ipython",
    "version": 3
   },
   "file_extension": ".py",
   "mimetype": "text/x-python",
   "name": "python",
   "nbconvert_exporter": "python",
   "pygments_lexer": "ipython3",
   "version": "3.10.5"
  },
  "orig_nbformat": 4
 },
 "nbformat": 4,
 "nbformat_minor": 2
}
